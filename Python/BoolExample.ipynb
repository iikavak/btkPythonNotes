{
 "cells": [
  {
   "cell_type": "code",
   "execution_count": 7,
   "id": "bb33eade",
   "metadata": {},
   "outputs": [],
   "source": [
    "listem=[5000,10000,3000,1000,4000,2000]"
   ]
  },
  {
   "cell_type": "code",
   "execution_count": 8,
   "id": "bb0eab66",
   "metadata": {},
   "outputs": [
    {
     "data": {
      "text/plain": [
       "6"
      ]
     },
     "execution_count": 8,
     "metadata": {},
     "output_type": "execute_result"
    }
   ],
   "source": [
    "len(listem)"
   ]
  },
  {
   "cell_type": "code",
   "execution_count": 9,
   "id": "6934cb1f",
   "metadata": {},
   "outputs": [
    {
     "data": {
      "text/plain": [
       "25000"
      ]
     },
     "execution_count": 9,
     "metadata": {},
     "output_type": "execute_result"
    }
   ],
   "source": [
    "sum(listem)"
   ]
  },
  {
   "cell_type": "markdown",
   "id": "591bc44c",
   "metadata": {},
   "source": []
  },
  {
   "cell_type": "code",
   "execution_count": null,
   "id": "1d4b0ab9",
   "metadata": {},
   "outputs": [],
   "source": []
  },
  {
   "cell_type": "code",
   "execution_count": 10,
   "id": "5634af5b",
   "metadata": {},
   "outputs": [],
   "source": [
    "ortalama=sum(listem)/len(listem)"
   ]
  },
  {
   "cell_type": "code",
   "execution_count": 11,
   "id": "8f59fc75",
   "metadata": {},
   "outputs": [
    {
     "data": {
      "text/plain": [
       "4166.666666666667"
      ]
     },
     "execution_count": 11,
     "metadata": {},
     "output_type": "execute_result"
    }
   ],
   "source": [
    "ortalama"
   ]
  },
  {
   "cell_type": "code",
   "execution_count": 12,
   "id": "23b87114",
   "metadata": {},
   "outputs": [
    {
     "data": {
      "text/plain": [
       "False"
      ]
     },
     "execution_count": 12,
     "metadata": {},
     "output_type": "execute_result"
    }
   ],
   "source": [
    "listem[4]> ortalama"
   ]
  },
  {
   "cell_type": "code",
   "execution_count": 13,
   "id": "1115db5c",
   "metadata": {},
   "outputs": [
    {
     "name": "stdout",
     "output_type": "stream",
     "text": [
      "maas: 20000\n"
     ]
    }
   ],
   "source": [
    "kullaniciMaas=input(\"maas: \")"
   ]
  },
  {
   "cell_type": "code",
   "execution_count": 14,
   "id": "3ce6a06a",
   "metadata": {},
   "outputs": [],
   "source": [
    "kullaniciMaasInt=int(kullaniciMaas)"
   ]
  },
  {
   "cell_type": "code",
   "execution_count": 15,
   "id": "cd8d10ae",
   "metadata": {},
   "outputs": [
    {
     "data": {
      "text/plain": [
       "True"
      ]
     },
     "execution_count": 15,
     "metadata": {},
     "output_type": "execute_result"
    }
   ],
   "source": [
    "kullaniciMaasInt>ortalama"
   ]
  },
  {
   "cell_type": "code",
   "execution_count": null,
   "id": "31bea99c",
   "metadata": {},
   "outputs": [],
   "source": []
  }
 ],
 "metadata": {
  "kernelspec": {
   "display_name": "Python 3 (ipykernel)",
   "language": "python",
   "name": "python3"
  },
  "language_info": {
   "codemirror_mode": {
    "name": "ipython",
    "version": 3
   },
   "file_extension": ".py",
   "mimetype": "text/x-python",
   "name": "python",
   "nbconvert_exporter": "python",
   "pygments_lexer": "ipython3",
   "version": "3.9.13"
  }
 },
 "nbformat": 4,
 "nbformat_minor": 5
}
