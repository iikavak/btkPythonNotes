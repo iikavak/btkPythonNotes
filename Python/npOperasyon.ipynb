{
 "cells": [
  {
   "cell_type": "code",
   "execution_count": 1,
   "id": "b882fb68",
   "metadata": {},
   "outputs": [],
   "source": [
    "import numpy as np"
   ]
  },
  {
   "cell_type": "code",
   "execution_count": 2,
   "id": "3c923e9a",
   "metadata": {},
   "outputs": [],
   "source": [
    "benimdizi= np.arange(0,16)"
   ]
  },
  {
   "cell_type": "code",
   "execution_count": 3,
   "id": "ee147631",
   "metadata": {},
   "outputs": [
    {
     "data": {
      "text/plain": [
       "array([ 0,  1,  2,  3,  4,  5,  6,  7,  8,  9, 10, 11, 12, 13, 14, 15])"
      ]
     },
     "execution_count": 3,
     "metadata": {},
     "output_type": "execute_result"
    }
   ],
   "source": [
    "benimdizi"
   ]
  },
  {
   "cell_type": "code",
   "execution_count": 4,
   "id": "23e820a3",
   "metadata": {},
   "outputs": [
    {
     "data": {
      "text/plain": [
       "array([ 4,  5,  6,  7,  8,  9, 10, 11])"
      ]
     },
     "execution_count": 4,
     "metadata": {},
     "output_type": "execute_result"
    }
   ],
   "source": [
    "benimdizi[4:12]"
   ]
  },
  {
   "cell_type": "code",
   "execution_count": 6,
   "id": "ac43ffdc",
   "metadata": {},
   "outputs": [],
   "source": [
    "benimdizi[3:10] = 700"
   ]
  },
  {
   "cell_type": "code",
   "execution_count": 7,
   "id": "35025422",
   "metadata": {},
   "outputs": [
    {
     "data": {
      "text/plain": [
       "array([  0,   1,   2, 700, 700, 700, 700, 700, 700, 700,  10,  11,  12,\n",
       "        13,  14,  15])"
      ]
     },
     "execution_count": 7,
     "metadata": {},
     "output_type": "execute_result"
    }
   ],
   "source": [
    "benimdizi"
   ]
  },
  {
   "cell_type": "code",
   "execution_count": 8,
   "id": "d3bcf221",
   "metadata": {},
   "outputs": [],
   "source": [
    "baskaDizi=np.arange(0,26)"
   ]
  },
  {
   "cell_type": "code",
   "execution_count": 9,
   "id": "609a3654",
   "metadata": {},
   "outputs": [],
   "source": [
    "slicingDizi= baskaDizi[3:8]"
   ]
  },
  {
   "cell_type": "code",
   "execution_count": 10,
   "id": "0bcc446e",
   "metadata": {},
   "outputs": [
    {
     "data": {
      "text/plain": [
       "array([3, 4, 5, 6, 7])"
      ]
     },
     "execution_count": 10,
     "metadata": {},
     "output_type": "execute_result"
    }
   ],
   "source": [
    "slicingDizi"
   ]
  },
  {
   "cell_type": "code",
   "execution_count": 11,
   "id": "6ee53533",
   "metadata": {},
   "outputs": [],
   "source": [
    "slicingDizi[:]=22"
   ]
  },
  {
   "cell_type": "code",
   "execution_count": 12,
   "id": "d28e2e93",
   "metadata": {},
   "outputs": [
    {
     "data": {
      "text/plain": [
       "array([22, 22, 22, 22, 22])"
      ]
     },
     "execution_count": 12,
     "metadata": {},
     "output_type": "execute_result"
    }
   ],
   "source": [
    "slicingDizi"
   ]
  },
  {
   "cell_type": "code",
   "execution_count": 13,
   "id": "51c54196",
   "metadata": {},
   "outputs": [
    {
     "data": {
      "text/plain": [
       "array([ 0,  1,  2, 22, 22, 22, 22, 22,  8,  9, 10, 11, 12, 13, 14, 15, 16,\n",
       "       17, 18, 19, 20, 21, 22, 23, 24, 25])"
      ]
     },
     "execution_count": 13,
     "metadata": {},
     "output_type": "execute_result"
    }
   ],
   "source": [
    "baskaDizi"
   ]
  },
  {
   "cell_type": "code",
   "execution_count": 14,
   "id": "fb947c02",
   "metadata": {},
   "outputs": [],
   "source": [
    "ornekDizi= np.arange(0,26)"
   ]
  },
  {
   "cell_type": "code",
   "execution_count": 15,
   "id": "6f8097a4",
   "metadata": {},
   "outputs": [],
   "source": [
    "ornekDizisiKopya= ornekDizi.copy()"
   ]
  },
  {
   "cell_type": "code",
   "execution_count": 16,
   "id": "8343d4fa",
   "metadata": {},
   "outputs": [],
   "source": [
    "ornekDizisiKopyaSlicing= ornekDizisiKopya[3:5]"
   ]
  },
  {
   "cell_type": "code",
   "execution_count": 17,
   "id": "09ebe469",
   "metadata": {},
   "outputs": [],
   "source": [
    "ornekDizisiKopyaSlicing[:]=27"
   ]
  },
  {
   "cell_type": "code",
   "execution_count": 18,
   "id": "66e9c622",
   "metadata": {},
   "outputs": [
    {
     "data": {
      "text/plain": [
       "array([27, 27])"
      ]
     },
     "execution_count": 18,
     "metadata": {},
     "output_type": "execute_result"
    }
   ],
   "source": [
    "ornekDizisiKopyaSlicing"
   ]
  },
  {
   "cell_type": "code",
   "execution_count": 19,
   "id": "a83fac65",
   "metadata": {},
   "outputs": [
    {
     "data": {
      "text/plain": [
       "array([ 0,  1,  2, 27, 27,  5,  6,  7,  8,  9, 10, 11, 12, 13, 14, 15, 16,\n",
       "       17, 18, 19, 20, 21, 22, 23, 24, 25])"
      ]
     },
     "execution_count": 19,
     "metadata": {},
     "output_type": "execute_result"
    }
   ],
   "source": [
    "ornekDizisiKopya"
   ]
  },
  {
   "cell_type": "code",
   "execution_count": 20,
   "id": "b061d2c3",
   "metadata": {},
   "outputs": [
    {
     "data": {
      "text/plain": [
       "array([ 0,  1,  2,  3,  4,  5,  6,  7,  8,  9, 10, 11, 12, 13, 14, 15, 16,\n",
       "       17, 18, 19, 20, 21, 22, 23, 24, 25])"
      ]
     },
     "execution_count": 20,
     "metadata": {},
     "output_type": "execute_result"
    }
   ],
   "source": [
    "ornekDizi"
   ]
  },
  {
   "cell_type": "markdown",
   "id": "9a9282d9",
   "metadata": {},
   "source": [
    "## matrix"
   ]
  },
  {
   "cell_type": "code",
   "execution_count": 21,
   "id": "1a93bc55",
   "metadata": {},
   "outputs": [],
   "source": [
    "benimListem=[[10,20,30],[20,30,40],[30,40,50]]"
   ]
  },
  {
   "cell_type": "code",
   "execution_count": 22,
   "id": "cc461455",
   "metadata": {},
   "outputs": [],
   "source": [
    "benimMatrixDizi= np.array(benimListem)"
   ]
  },
  {
   "cell_type": "code",
   "execution_count": 23,
   "id": "4c6f63d4",
   "metadata": {},
   "outputs": [
    {
     "data": {
      "text/plain": [
       "array([[10, 20, 30],\n",
       "       [20, 30, 40],\n",
       "       [30, 40, 50]])"
      ]
     },
     "execution_count": 23,
     "metadata": {},
     "output_type": "execute_result"
    }
   ],
   "source": [
    "benimMatrixDizi"
   ]
  },
  {
   "cell_type": "code",
   "execution_count": 24,
   "id": "3aef3f01",
   "metadata": {},
   "outputs": [
    {
     "data": {
      "text/plain": [
       "array([10, 20, 30])"
      ]
     },
     "execution_count": 24,
     "metadata": {},
     "output_type": "execute_result"
    }
   ],
   "source": [
    "benimMatrixDizi[0]"
   ]
  },
  {
   "cell_type": "code",
   "execution_count": 25,
   "id": "ebf60bf6",
   "metadata": {},
   "outputs": [
    {
     "data": {
      "text/plain": [
       "30"
      ]
     },
     "execution_count": 25,
     "metadata": {},
     "output_type": "execute_result"
    }
   ],
   "source": [
    "benimMatrixDizi[1,1]"
   ]
  },
  {
   "cell_type": "code",
   "execution_count": 26,
   "id": "9a9e27b5",
   "metadata": {},
   "outputs": [
    {
     "data": {
      "text/plain": [
       "30"
      ]
     },
     "execution_count": 26,
     "metadata": {},
     "output_type": "execute_result"
    }
   ],
   "source": [
    "benimMatrixDizi[1][1]"
   ]
  },
  {
   "cell_type": "code",
   "execution_count": 27,
   "id": "606b1213",
   "metadata": {},
   "outputs": [
    {
     "data": {
      "text/plain": [
       "array([30, 40])"
      ]
     },
     "execution_count": 27,
     "metadata": {},
     "output_type": "execute_result"
    }
   ],
   "source": [
    "benimMatrixDizi[1:,1]"
   ]
  },
  {
   "cell_type": "code",
   "execution_count": 28,
   "id": "a17fe334",
   "metadata": {},
   "outputs": [
    {
     "data": {
      "text/plain": [
       "array([[10, 20, 30],\n",
       "       [30, 40, 50]])"
      ]
     },
     "execution_count": 28,
     "metadata": {},
     "output_type": "execute_result"
    }
   ],
   "source": [
    "benimMatrixDizi[[0,2]]"
   ]
  },
  {
   "cell_type": "markdown",
   "id": "b6a1cd23",
   "metadata": {},
   "source": [
    "## opreasyonlar"
   ]
  },
  {
   "cell_type": "code",
   "execution_count": 29,
   "id": "ea14e536",
   "metadata": {},
   "outputs": [],
   "source": [
    "yeniBirdizi=np.random.randint(1,100,20)"
   ]
  },
  {
   "cell_type": "code",
   "execution_count": 30,
   "id": "6a413e2a",
   "metadata": {},
   "outputs": [
    {
     "data": {
      "text/plain": [
       "array([89, 43, 58,  3,  3, 14, 40, 58, 79, 10, 31, 86, 26,  5, 16, 19, 96,\n",
       "       57, 52, 90])"
      ]
     },
     "execution_count": 30,
     "metadata": {},
     "output_type": "execute_result"
    }
   ],
   "source": [
    "yeniBirdizi"
   ]
  },
  {
   "cell_type": "code",
   "execution_count": 31,
   "id": "73b56786",
   "metadata": {},
   "outputs": [
    {
     "data": {
      "text/plain": [
       "array([ True,  True,  True, False, False, False,  True,  True,  True,\n",
       "       False,  True,  True,  True, False, False, False,  True,  True,\n",
       "        True,  True])"
      ]
     },
     "execution_count": 31,
     "metadata": {},
     "output_type": "execute_result"
    }
   ],
   "source": [
    "yeniBirdizi>24"
   ]
  },
  {
   "cell_type": "code",
   "execution_count": 32,
   "id": "fd7c0748",
   "metadata": {},
   "outputs": [],
   "source": [
    "sonucDizi=yeniBirdizi>24"
   ]
  },
  {
   "cell_type": "code",
   "execution_count": 33,
   "id": "1730093c",
   "metadata": {},
   "outputs": [
    {
     "data": {
      "text/plain": [
       "array([ True,  True,  True, False, False, False,  True,  True,  True,\n",
       "       False,  True,  True,  True, False, False, False,  True,  True,\n",
       "        True,  True])"
      ]
     },
     "execution_count": 33,
     "metadata": {},
     "output_type": "execute_result"
    }
   ],
   "source": [
    "sonucDizi"
   ]
  },
  {
   "cell_type": "code",
   "execution_count": 34,
   "id": "df2165da",
   "metadata": {},
   "outputs": [
    {
     "data": {
      "text/plain": [
       "array([89, 43, 58, 40, 58, 79, 31, 86, 26, 96, 57, 52, 90])"
      ]
     },
     "execution_count": 34,
     "metadata": {},
     "output_type": "execute_result"
    }
   ],
   "source": [
    "yeniBirdizi[sonucDizi]"
   ]
  },
  {
   "cell_type": "code",
   "execution_count": 35,
   "id": "8875c2e0",
   "metadata": {},
   "outputs": [
    {
     "data": {
      "text/plain": [
       "array([89, 43, 58, 40, 58, 79, 31, 86, 26, 96, 57, 52, 90])"
      ]
     },
     "execution_count": 35,
     "metadata": {},
     "output_type": "execute_result"
    }
   ],
   "source": [
    "yeniBirdizi[yeniBirdizi>24]"
   ]
  },
  {
   "cell_type": "code",
   "execution_count": 36,
   "id": "ed2cbe24",
   "metadata": {},
   "outputs": [],
   "source": [
    "sondizi=np.arange(1,26)"
   ]
  },
  {
   "cell_type": "code",
   "execution_count": 37,
   "id": "39ee1796",
   "metadata": {},
   "outputs": [
    {
     "data": {
      "text/plain": [
       "array([ 2,  4,  6,  8, 10, 12, 14, 16, 18, 20, 22, 24, 26, 28, 30, 32, 34,\n",
       "       36, 38, 40, 42, 44, 46, 48, 50])"
      ]
     },
     "execution_count": 37,
     "metadata": {},
     "output_type": "execute_result"
    }
   ],
   "source": [
    "sondizi + sondizi"
   ]
  },
  {
   "cell_type": "code",
   "execution_count": 38,
   "id": "06b88f8a",
   "metadata": {},
   "outputs": [
    {
     "data": {
      "text/plain": [
       "array([  1,   4,   9,  16,  25,  36,  49,  64,  81, 100, 121, 144, 169,\n",
       "       196, 225, 256, 289, 324, 361, 400, 441, 484, 529, 576, 625])"
      ]
     },
     "execution_count": 38,
     "metadata": {},
     "output_type": "execute_result"
    }
   ],
   "source": [
    "sondizi* sondizi"
   ]
  },
  {
   "cell_type": "code",
   "execution_count": 39,
   "id": "05961119",
   "metadata": {},
   "outputs": [
    {
     "data": {
      "text/plain": [
       "array([1.        , 1.41421356, 1.73205081, 2.        , 2.23606798,\n",
       "       2.44948974, 2.64575131, 2.82842712, 3.        , 3.16227766,\n",
       "       3.31662479, 3.46410162, 3.60555128, 3.74165739, 3.87298335,\n",
       "       4.        , 4.12310563, 4.24264069, 4.35889894, 4.47213595,\n",
       "       4.58257569, 4.69041576, 4.79583152, 4.89897949, 5.        ])"
      ]
     },
     "execution_count": 39,
     "metadata": {},
     "output_type": "execute_result"
    }
   ],
   "source": [
    "np.sqrt(sondizi)"
   ]
  },
  {
   "cell_type": "code",
   "execution_count": 40,
   "id": "3a888305",
   "metadata": {},
   "outputs": [
    {
     "data": {
      "text/plain": [
       "25"
      ]
     },
     "execution_count": 40,
     "metadata": {},
     "output_type": "execute_result"
    }
   ],
   "source": [
    "np.max(sondizi)"
   ]
  },
  {
   "cell_type": "code",
   "execution_count": 41,
   "id": "89b92b6f",
   "metadata": {},
   "outputs": [
    {
     "data": {
      "text/plain": [
       "1"
      ]
     },
     "execution_count": 41,
     "metadata": {},
     "output_type": "execute_result"
    }
   ],
   "source": [
    "np.min(sondizi)"
   ]
  },
  {
   "cell_type": "code",
   "execution_count": null,
   "id": "4f510834",
   "metadata": {},
   "outputs": [],
   "source": []
  }
 ],
 "metadata": {
  "kernelspec": {
   "display_name": "Python 3 (ipykernel)",
   "language": "python",
   "name": "python3"
  },
  "language_info": {
   "codemirror_mode": {
    "name": "ipython",
    "version": 3
   },
   "file_extension": ".py",
   "mimetype": "text/x-python",
   "name": "python",
   "nbconvert_exporter": "python",
   "pygments_lexer": "ipython3",
   "version": "3.9.13"
  }
 },
 "nbformat": 4,
 "nbformat_minor": 5
}
